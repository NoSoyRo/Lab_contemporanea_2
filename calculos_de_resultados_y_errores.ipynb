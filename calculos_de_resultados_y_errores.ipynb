{
 "cells": [
  {
   "cell_type": "code",
   "execution_count": 42,
   "id": "781a421a",
   "metadata": {},
   "outputs": [],
   "source": [
    "import matplotlib.pyplot as plt"
   ]
  },
  {
   "cell_type": "code",
   "execution_count": 43,
   "id": "d39ede84",
   "metadata": {},
   "outputs": [],
   "source": [
    "import numpy as np"
   ]
  },
  {
   "cell_type": "code",
   "execution_count": 44,
   "id": "311b7270",
   "metadata": {},
   "outputs": [],
   "source": [
    "d1_chiqui1 = [2.6/100,2.3/100,2/100,1.9/100,1.8/100]# convertir cm a m\n",
    "ancho_d1_chiqui1 = [0.4/100, 0.5/100, 0.5/100, 0.4/100, 0.5/100]\n",
    "d2_grande1 = [4.3/100,3.8/100,3.5/100,3.2/100,3.1/100]\n",
    "ancho_d2_grande1 = [0.7/100, 0.5/100, 0.5/100, 0.7/100, 0.5/100]\n",
    "voltaje1 = [2.54*1000, 3.00*1000, 3.51*1000, 4.00*1000, 4.51*1000] # convertir kv a v"
   ]
  },
  {
   "cell_type": "code",
   "execution_count": 45,
   "id": "e8f0d3e6",
   "metadata": {},
   "outputs": [],
   "source": [
    "c_v1 = [1/np.sqrt(i) for i in voltaje1]"
   ]
  },
  {
   "cell_type": "code",
   "execution_count": 46,
   "id": "3227e203",
   "metadata": {},
   "outputs": [
    {
     "data": {
      "image/png": "[encoded data removed]",
      "text/plain": [
       "<Figure size 432x288 with 1 Axes>"
      ]
     },
     "metadata": {
      "needs_background": "light"
     },
     "output_type": "display_data"
    }
   ],
   "source": [
    "plt.scatter(c_v1,d1_chiqui1)\n",
    "plt.scatter(c_v1,d2_grande1)\n",
    "plt.show()"
   ]
  },
  {
   "cell_type": "code",
   "execution_count": 47,
   "id": "5620c0c7",
   "metadata": {},
   "outputs": [
    {
     "data": {
      "image/png": "[encoded data removed]",
      "text/plain": [
       "<Figure size 432x288 with 1 Axes>"
      ]
     },
     "metadata": {
      "needs_background": "light"
     },
     "output_type": "display_data"
    }
   ],
   "source": [
    "d1_chiqui2 = [2.5/100,2.3/100,2.1/100,1.9/100,1.8/100]   # convertir cm a m\n",
    "ancho_d1_chiqui2 = [0.7/100, 0.7/100, 0.6/100, 0.6/100, 0.6/100]\n",
    "d2_grande2 = [4.4/100,4.1/100,3.8/100,3.4/100,3.2/100]\n",
    "ancho_d2_grande2 = [0.6/100, 0.8/100, 0.7/100, 0.6/100, 0.5/100]\n",
    "voltaje2 = [2.58*1000, 3.02*1000, 3.53*1000,4.03*1000,4.51*1000 ] # convertir kv a v\n",
    "c_v2 = [1/np.sqrt(i) for i in voltaje2]\n",
    "plt.scatter(c_v2, d1_chiqui2)\n",
    "plt.scatter(c_v2,d2_grande2)\n",
    "plt.show()"
   ]
  },
  {
   "cell_type": "code",
   "execution_count": 48,
   "id": "9868c13d",
   "metadata": {},
   "outputs": [],
   "source": [
    "import propagacion_de_incertidumbres as pinc"
   ]
  },
  {
   "cell_type": "markdown",
   "id": "5b0c879b",
   "metadata": {},
   "source": [
    "Ahora solo tenemos que alterar los datos para que sean tuplas recordando que las inceprtidumbres de los radios son el 5$\\%$ de la magnitud total."
   ]
  },
  {
   "cell_type": "code",
   "execution_count": 49,
   "id": "f4c33b1e",
   "metadata": {},
   "outputs": [],
   "source": [
    "r11 = [(i,0.5*j) for i,j in zip(d1_chiqui1, ancho_d1_chiqui1)]\n",
    "r21 = [(i,0.5*j) for i,j in zip(d2_grande1, ancho_d2_grande1)]\n",
    "r12 = [(i,0.5*j) for i,j in zip(d1_chiqui2, ancho_d1_chiqui2)]\n",
    "r22 = [(i,0.5*j) for i,j in zip(d2_grande2, ancho_d2_grande2)]"
   ]
  },
  {
   "cell_type": "markdown",
   "id": "0c6dd64e",
   "metadata": {},
   "source": [
    "Ahora para obtener las incertidumbres de los voltajes primero tenemos que cambiar las los voltajes. Cons sus incertidumbres:"
   ]
  },
  {
   "cell_type": "code",
   "execution_count": 50,
   "id": "8562b89e",
   "metadata": {},
   "outputs": [],
   "source": [
    "v1_inc = [(i,0.005) for i in voltaje1]\n",
    "v2_inc = [(i,0.005) for i in voltaje2]"
   ]
  },
  {
   "cell_type": "markdown",
   "id": "b8926dea",
   "metadata": {},
   "source": [
    "Ahora tomando en cuenta que necesito cambiar de variable a $1/\\sqrt{x}$ entonces necesito deducir la incertidumbre de este experimento:\n",
    "\n",
    "$$\\sigma_{1/\\sqrt{x}} = |(1/\\sqrt{x})'|\\sigma_x = \\frac{1}{2x^{3/2}}\\sigma_x$$\n"
   ]
  },
  {
   "cell_type": "code",
   "execution_count": 51,
   "id": "5c664bf9",
   "metadata": {},
   "outputs": [],
   "source": [
    "def der1(x):\n",
    "    return(1/(2*x[0]**(2/3)))"
   ]
  },
  {
   "cell_type": "code",
   "execution_count": 52,
   "id": "1244922d",
   "metadata": {},
   "outputs": [],
   "source": [
    "c_v1_inc = [(1/np.sqrt(i[0]),der1(i)*i[1]) for i in v1_inc]\n",
    "c_v2_inc = [(1/np.sqrt(i[0]),der1(i)*i[1]) for i in v2_inc]"
   ]
  },
  {
   "cell_type": "markdown",
   "id": "b4d11c6e",
   "metadata": {},
   "source": [
    "Las pendientes y ordenadas al origen con sus respectivas incertidumbres son:"
   ]
  },
  {
   "cell_type": "code",
   "execution_count": 53,
   "id": "8fc2b6d8",
   "metadata": {},
   "outputs": [],
   "source": [
    "m11, o11, inc_m11, inc_o11, rc11 = pinc.calcula_m_o_inc_m_y_ord(c_v1_inc,r11)\n",
    "m21, o21, inc_m21, inc_o21, rc21 = pinc.calcula_m_o_inc_m_y_ord(c_v1_inc,r21)\n",
    "m12, o12, inc_m12, inc_o12, rc12 = pinc.calcula_m_o_inc_m_y_ord(c_v1_inc,r12)\n",
    "m22, o22, inc_m22, inc_o22, rc22 = pinc.calcula_m_o_inc_m_y_ord(c_v2_inc,r22)"
   ]
  },
  {
   "cell_type": "code",
   "execution_count": 54,
   "id": "161f9469",
   "metadata": {},
   "outputs": [],
   "source": [
    "r11_m, r11_i = [i[0] for i in r11], [i[1] for i in r11]\n",
    "r21_m, r21_i = [i[0] for i in r21], [i[1] for i in r21]\n",
    "r12_m, r12_i = [i[0] for i in r12], [i[1] for i in r12]\n",
    "r22_m, r22_i = [i[0] for i in r22], [i[1] for i in r22]\n",
    "cv1inc_m, cv1inc_i = [i[0] for i in c_v1_inc], [i[1] for i in c_v1_inc]\n",
    "cv2inc_m, cv2inc_i = [i[0] for i in c_v2_inc], [i[1] for i in c_v2_inc]"
   ]
  },
  {
   "cell_type": "code",
   "execution_count": 55,
   "id": "e78bd16c",
   "metadata": {},
   "outputs": [],
   "source": [
    "x = np.linspace(0.01,0.05,1000)\n",
    "y11 = [m11*i + o11 for i in x]\n",
    "y21 = [m21*i + o21 for i in x]\n",
    "y12 = [m12*i + o12 for i in x]\n",
    "y22 = [m22*i + o22 for i in x]"
   ]
  },
  {
   "cell_type": "code",
   "execution_count": 56,
   "id": "52396ddd",
   "metadata": {},
   "outputs": [],
   "source": [
    "import matplotlib.pyplot as plt"
   ]
  },
  {
   "cell_type": "code",
   "execution_count": 59,
   "id": "18d7059e",
   "metadata": {},
   "outputs": [
    {
     "data": {
      "image/png": "[encoded data removed]",
      "text/plain": [
       "<Figure size 432x288 with 1 Axes>"
      ]
     },
     "metadata": {
      "needs_background": "light"
     },
     "output_type": "display_data"
    }
   ],
   "source": [
    "plt.errorbar(y = r11_m, x = cv1inc_m,yerr = r11_i,xerr = cv1inc_i, fmt='--', markersize=3, capsize=3, label = \"radio1\")\n",
    "plt.errorbar(y = r21_m, x = cv1inc_m,yerr = r21_i,xerr = cv1inc_i, fmt='--', markersize=3, capsize=3, label = \"radio1\")\n",
    "plt.plot(x,y11)\n",
    "plt.plot(x,y21)\n",
    "plt.title(\"primera reproduccion\")\n",
    "plt.xlim(0.0147, 0.020)\n",
    "plt.ylim(0.014, 0.05)\n",
    "plt.grid()\n",
    "plt.show()"
   ]
  },
  {
   "cell_type": "code",
   "execution_count": 60,
   "id": "6e941e3b",
   "metadata": {},
   "outputs": [
    {
     "data": {
      "image/png": "[encoded data removed]",
      "text/plain": [
       "<Figure size 432x288 with 1 Axes>"
      ]
     },
     "metadata": {
      "needs_background": "light"
     },
     "output_type": "display_data"
    }
   ],
   "source": [
    "plt.errorbar(y = r12_m, x = cv2inc_m,yerr = r12_i,xerr = cv2inc_i, fmt='--', markersize=3, capsize=3, label = \"radio1\")\n",
    "plt.errorbar(y = r22_m, x = cv2inc_m,yerr = r22_i,xerr = cv2inc_i, fmt='--', markersize=3, capsize=3, label = \"radio1\")\n",
    "plt.plot(x,y12)\n",
    "plt.plot(x,y22)\n",
    "plt.title(\"segunda reproduccion\")\n",
    "plt.xlim(0.0147, 0.020)\n",
    "plt.ylim(0.014, 0.05)\n",
    "plt.grid()\n",
    "plt.show()"
   ]
  },
  {
   "cell_type": "code",
   "execution_count": 61,
   "id": "e8767b44",
   "metadata": {},
   "outputs": [
    {
     "data": {
      "image/png": "[encoded data removed]",
      "text/plain": [
       "<Figure size 432x288 with 1 Axes>"
      ]
     },
     "metadata": {
      "needs_background": "light"
     },
     "output_type": "display_data"
    }
   ],
   "source": [
    "plt.errorbar(y = r11_m, x = cv1inc_m,yerr = r11_i,xerr = cv1inc_i, fmt='--', markersize=3, capsize=3, label = \"radio1\")\n",
    "plt.errorbar(y = r21_m, x = cv1inc_m,yerr = r21_i,xerr = cv1inc_i, fmt='--', markersize=3, capsize=3, label = \"radio1\")\n",
    "plt.plot(x,y11)\n",
    "plt.plot(x,y21)\n",
    "plt.errorbar(y = r12_m, x = cv2inc_m,yerr = r12_i,xerr = cv2inc_i, fmt='--', markersize=3, capsize=3, label = \"radio1\")\n",
    "plt.errorbar(y = r22_m, x = cv2inc_m,yerr = r22_i,xerr = cv2inc_i, fmt='--', markersize=3, capsize=3, label = \"radio1\")\n",
    "plt.plot(x,y12)\n",
    "plt.plot(x,y22)\n",
    "plt.title(\"segunda reproduccion\")\n",
    "plt.xlim(0.0147, 0.020)\n",
    "plt.ylim(0.014, 0.05)\n",
    "plt.grid()\n",
    "plt.show()"
   ]
  },
  {
   "cell_type": "code",
   "execution_count": 62,
   "id": "a630a7ae",
   "metadata": {},
   "outputs": [
    {
     "name": "stdout",
     "output_type": "stream",
     "text": [
      "La pendiente del primer radio peque es: \n",
      " 1.6458201445853107 -0.007002864526711111 \n",
      " La pendiente del primer radio gde es: \n",
      " 2.4586658409962805 -0.006331833091361625 \n",
      " La pendiente del segundo radio peque es: \n",
      " 1.4539468614205975 -0.0037149133923220553 \n",
      " La pendiente del segundo radio gde es: \n",
      " 2.5527904997696633 -0.005780453451546427\n"
     ]
    }
   ],
   "source": [
    "print(\"La pendiente del primer radio peque es: \\n\", m11, o11, \"\\n\",\n",
    "     \"La pendiente del primer radio gde es: \\n\", m21, o21,\"\\n\",\n",
    "     \"La pendiente del segundo radio peque es: \\n\", m12, o12,\"\\n\",\n",
    "     \"La pendiente del segundo radio gde es: \\n\", m22, o22)"
   ]
  },
  {
   "cell_type": "markdown",
   "id": "4bfd38fd",
   "metadata": {},
   "source": [
    "Ahora bien, consideremos la distancia interplanar dada por el orden dos de difracción, la razón se discutió en el reporte experimental.\n",
    "$$d = 2\\frac{Lh}{k_i\\sqrt{2me}}$$"
   ]
  },
  {
   "cell_type": "code",
   "execution_count": 70,
   "id": "749f2fe1",
   "metadata": {},
   "outputs": [],
   "source": [
    "L = 0.130\n",
    "h = 6.63E-34\n",
    "m = 9.1E-31\n",
    "e = 1.6e-19\n",
    "cte = L*h/(np.sqrt(2*m*e))"
   ]
  },
  {
   "cell_type": "code",
   "execution_count": 71,
   "id": "d8adc3f0",
   "metadata": {},
   "outputs": [],
   "source": [
    "def calc(p):\n",
    "    return((1/(p))*cte)"
   ]
  },
  {
   "cell_type": "code",
   "execution_count": 79,
   "id": "d5efe0f1",
   "metadata": {},
   "outputs": [],
   "source": [
    "d11 = 2*calc(m11)\n",
    "d21 = 2*calc(m21)\n",
    "d12 = 2*calc(m12)\n",
    "d22 = 2*calc(m22)"
   ]
  },
  {
   "cell_type": "code",
   "execution_count": 80,
   "id": "c4e06599",
   "metadata": {},
   "outputs": [
    {
     "name": "stdout",
     "output_type": "stream",
     "text": [
      "la distancia interplanar 1 de la reproducción 1 es:  1.940925283154738e-10 \n",
      " la distancia interplanar 2 de la reproducción 1 es:  1.299246882958524e-10 \n",
      " la distancia interplanar 1 de la reproducción 2 es:  2.1970637407132421e-10 \n",
      " la distancia interplanar 2 de la reproducción 2 es:  1.251341984561305e-10 \n",
      "\n"
     ]
    }
   ],
   "source": [
    "print(\"la distancia interplanar 1 de la reproducción 1 es: \", d11, \"\\n\",\n",
    "     \"la distancia interplanar 2 de la reproducción 1 es: \", d21, \"\\n\",\n",
    "     \"la distancia interplanar 1 de la reproducción 2 es: \", d12, \"\\n\",\n",
    "     \"la distancia interplanar 2 de la reproducción 2 es: \", d22, \"\\n\")"
   ]
  },
  {
   "cell_type": "markdown",
   "id": "41444955",
   "metadata": {},
   "source": [
    "Ahora como se tuvo que realizar un cálculo del tipo $\\frac{1}{\\rho}\\times cte$ tenemso que propagar de manera correcta el error de cada medición para ello recordemos de vuelta que:\n",
    "$$\\sigma_{cte(1/x)} = |cte(1/x)'|\\sigma_x = cte\\frac{1}{x^2}\\sigma_x$$"
   ]
  },
  {
   "cell_type": "code",
   "execution_count": 81,
   "id": "1e91fc31",
   "metadata": {},
   "outputs": [],
   "source": [
    "def inc_dos(x, inc):\n",
    "    return((1/x**2)*inc)"
   ]
  },
  {
   "cell_type": "code",
   "execution_count": 82,
   "id": "bc446318",
   "metadata": {},
   "outputs": [],
   "source": [
    "#Calculamos las incertidumbres de cada valor de distancia interplanar:\n",
    "inc_m11 = cte*inc_dos(m11,inc_m11)\n",
    "inc_m21 = cte*inc_dos(m21,inc_m21)\n",
    "inc_m12 = cte*inc_dos(m12,inc_m12)\n",
    "inc_m22 = cte*inc_dos(m22,inc_m22)\n",
    "lista_pendientes_con_inc = [(d11, inc_m11),(d21, inc_m21),(d12, inc_m12),(d22, inc_m22)]"
   ]
  },
  {
   "cell_type": "code",
   "execution_count": 83,
   "id": "ad9c90c5",
   "metadata": {},
   "outputs": [
    {
     "name": "stdout",
     "output_type": "stream",
     "text": [
      "La distancia interplanar d1 con incertidumbre de la primera reproducción es: (1.940925283154738e-10, 1.877097081545723e-41) \n",
      "La distancia interplanar d2 con incertidumbre de la primera reproducción es: (1.299246882958524e-10, 4.6847071927176434e-43) \n",
      "La distancia interplanar d1 con incertidumbre de la segunda reproducción es: (2.1970637407132421e-10, 9.239750538450686e-41) \n",
      "La distancia interplanar d2 con incertidumbre de la segunda reproducción es: (1.251341984561305e-10, 3.8752050022044e-43) \n",
      "\n"
     ]
    }
   ],
   "source": [
    "print(\"La distancia interplanar d1 con incertidumbre de la primera reproducción es:\", lista_pendientes_con_inc[0], \"\\n\"\n",
    "      \"La distancia interplanar d2 con incertidumbre de la primera reproducción es:\", lista_pendientes_con_inc[1], \"\\n\"\n",
    "      \"La distancia interplanar d1 con incertidumbre de la segunda reproducción es:\", lista_pendientes_con_inc[2], \"\\n\"\n",
    "      \"La distancia interplanar d2 con incertidumbre de la segunda reproducción es:\", lista_pendientes_con_inc[3], \"\\n\"\n",
    "      )"
   ]
  },
  {
   "cell_type": "code",
   "execution_count": 99,
   "id": "037ff7d6",
   "metadata": {},
   "outputs": [
    {
     "name": "stdout",
     "output_type": "stream",
     "text": [
      "La distancia interplanar 1 promedio es: (2.0689945119339902e-10, 5.558423809998204e-41) \n",
      " La distancia interplanar 2 promedio es: (1.2752944337599145e-10, 4.279956097461022e-43) \n",
      "\n"
     ]
    }
   ],
   "source": [
    "#promedio de d1 y de d2:\n",
    "d1_prom = ((lista_pendientes_con_inc[0][0]+lista_pendientes_con_inc[2][0])/2,(lista_pendientes_con_inc[0][1]+lista_pendientes_con_inc[2][1])/2 )\n",
    "d2_prom = ((lista_pendientes_con_inc[1][0]+lista_pendientes_con_inc[3][0])/2,(lista_pendientes_con_inc[1][1]+lista_pendientes_con_inc[3][1])/2 )\n",
    "print(\"La distancia interplanar 1 promedio es:\", d1_prom, \"\\n\",\n",
    "     \"La distancia interplanar 2 promedio es:\", d2_prom, \"\\n\")"
   ]
  },
  {
   "cell_type": "markdown",
   "id": "71d1feef",
   "metadata": {},
   "source": [
    "Finalmente para encontrar la longitud de onda del electrón basta utilizar que:\n",
    "$$\\lambda = \\frac{h}{\\sqrt{2meU}}$$"
   ]
  },
  {
   "cell_type": "code",
   "execution_count": 90,
   "id": "9aafb27c",
   "metadata": {},
   "outputs": [],
   "source": [
    "cte = h/np.sqrt(2*m*e)\n",
    "long_onda_rep1 = [(cte * i[0],cte * i[1]) for i in c_v1_inc]\n",
    "long_onda_rep2 = [(cte * i[0],cte * i[1]) for i in c_v2_inc]"
   ]
  },
  {
   "cell_type": "code",
   "execution_count": 92,
   "id": "64fbd66c",
   "metadata": {},
   "outputs": [
    {
     "name": "stdout",
     "output_type": "stream",
     "text": [
      "Las longitudes de onda son \n",
      " [(2.4378163461759767e-11, 1.6499421120990625e-14), (2.2431443173749274e-11, 1.476648114789841e-14), (2.073787655015633e-11, 1.3299024133081335e-14), (1.9426199632013904e-11, 1.218946161813364e-14), (1.8294880292476898e-11, 1.1252270326145505e-14)] \n",
      " Las longitudes de onda son \n",
      " [(2.4378163461759767e-11, 1.6499421120990625e-14), (2.2431443173749274e-11, 1.476648114789841e-14), (2.073787655015633e-11, 1.3299024133081335e-14), (1.9426199632013904e-11, 1.218946161813364e-14), (1.8294880292476898e-11, 1.1252270326145505e-14)] \n",
      "\n"
     ]
    }
   ],
   "source": [
    "print(\"Las longitudes de onda de la primera reproducción son \\n\",long_onda_rep1, \"\\n\",\n",
    "     \"Las longitudes de onda de la segunda reproducción son \\n\",long_onda_rep1, \"\\n\")"
   ]
  },
  {
   "cell_type": "markdown",
   "id": "8868c8c8",
   "metadata": {},
   "source": [
    "Finalmente tenemos que calcular las distancias interatómicas, para hacerlo basta usar que:\n",
    "$$\\Delta = \\frac{d_2}{\\sin(60^\\circ)}$$"
   ]
  },
  {
   "cell_type": "code",
   "execution_count": 97,
   "id": "fc478701",
   "metadata": {},
   "outputs": [
    {
     "name": "stdout",
     "output_type": "stream",
     "text": [
      "La distancia interatómica medida con la primera reproducción experimental es: (1.5002410752397724e-10, 5.409433917580216e-43) \n",
      " La distancia interatómica medida con la segunda reproducción experimental es: (1.4449252632695e-10, 4.47470130237539e-43) \n",
      " La distancia interatómica promedio es: (1.4725831692546363e-10, 4.9420676099778025e-43) \n",
      "\n"
     ]
    }
   ],
   "source": [
    "cte_3 = 1/np.sin(np.pi/3)\n",
    "#obtenemos dos distancias interatómicas puesto que tenemos dos reproducciones para d_2\n",
    "Delta_1 = (cte_3 * lista_pendientes_con_inc[1][0], cte_3 * lista_pendientes_con_inc[1][1])\n",
    "Delta_2 = (cte_3 * lista_pendientes_con_inc[3][0], cte_3 * lista_pendientes_con_inc[3][1])\n",
    "Delta_prom = ((Delta_1[0]+Delta_2[0])/2, (Delta_1[1]+Delta_2[1])/2)\n",
    "print(\"La distancia interatómica medida con la primera reproducción experimental es:\", Delta_1 , \"\\n\",\n",
    "     \"La distancia interatómica medida con la segunda reproducción experimental es:\", Delta_2 , \"\\n\",\n",
    "     \"La distancia interatómica promedio es:\", Delta_prom , \"\\n\")"
   ]
  },
  {
   "cell_type": "markdown",
   "id": "04973780",
   "metadata": {},
   "source": [
    "## Errores"
   ]
  },
  {
   "cell_type": "code",
   "execution_count": 100,
   "id": "0edb798b",
   "metadata": {},
   "outputs": [],
   "source": [
    "#Medidas exactas:\n",
    "dist_interatom_correcta = 1.23E-10/np.sin(np.pi/3)\n",
    "d_1 = 2.13E-10\n",
    "d_2 = 1.23E-10"
   ]
  },
  {
   "cell_type": "code",
   "execution_count": 101,
   "id": "90db7727",
   "metadata": {},
   "outputs": [],
   "source": [
    "def error_porcent(xlit,xmed):\n",
    "    return((np.abs(xlit-xmed[0])/xlit)*100)"
   ]
  },
  {
   "cell_type": "code",
   "execution_count": 103,
   "id": "1f5bddf4",
   "metadata": {},
   "outputs": [
    {
     "name": "stdout",
     "output_type": "stream",
     "text": [
      "El error porcentual de la distancia interatómica es: 3.682474289423966 %\n",
      " El error porcentual de la distancia interplanar 1 es: 2.864107420939422 %\n",
      " El error porcentual de la distancia interplanar 2 es: 3.682474289423953 %\n",
      "\n"
     ]
    }
   ],
   "source": [
    "err_dist_interatom = error_porcent(dist_interatom_correcta, Delta_prom)\n",
    "err_d1 = error_porcent(d_1, d1_prom)\n",
    "err_d2 = error_porcent(d_2, d2_prom)\n",
    "print(\"El error porcentual de la distancia interatómica es:\", err_dist_interatom, \"%\\n\",\n",
    "     \"El error porcentual de la distancia interplanar 1 es:\", err_d1, \"%\\n\",\n",
    "     \"El error porcentual de la distancia interplanar 2 es:\", err_d2, \"%\\n\",)"
   ]
  }
 ],
 "metadata": {
  "kernelspec": {
   "display_name": "Python 3 (ipykernel)",
   "language": "python",
   "name": "python3"
  },
  "language_info": {
   "codemirror_mode": {
    "name": "ipython",
    "version": 3
   },
   "file_extension": ".py",
   "mimetype": "text/x-python",
   "name": "python",
   "nbconvert_exporter": "python",
   "pygments_lexer": "ipython3",
   "version": "3.8.12"
  }
 },
 "nbformat": 4,
 "nbformat_minor": 5
}
